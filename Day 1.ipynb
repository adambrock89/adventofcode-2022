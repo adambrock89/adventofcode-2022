{
 "cells": [
  {
   "cell_type": "markdown",
   "metadata": {},
   "source": [
    "--- Part One ---\n",
    "\n",
    "The jungle must be too overgrown and difficult to navigate in vehicles or access from the air; the Elves' expedition traditionally goes on foot. As your boats approach land, the Elves begin taking inventory of their supplies. One important consideration is food - in particular, the number of Calories each Elf is carrying (your puzzle input).\n",
    "\n",
    "The Elves take turns writing down the number of Calories contained by the various meals, snacks, rations, etc. that they've brought with them, one item per line. Each Elf separates their own inventory from the previous Elf's inventory (if any) by a blank line.\n",
    "\n",
    "For example, suppose the Elves finish writing their items' Calories and end up with the following list:\n",
    "\n",
    "1000\n",
    "2000\n",
    "3000\n",
    "\n",
    "4000\n",
    "\n",
    "5000\n",
    "6000\n",
    "\n",
    "7000\n",
    "8000\n",
    "9000\n",
    "\n",
    "10000\n",
    "\n",
    "This list represents the Calories of the food carried by five Elves:\n",
    "\n",
    "    The first Elf is carrying food with 1000, 2000, and 3000 Calories, a total of 6000 Calories.\n",
    "    The second Elf is carrying one food item with 4000 Calories.\n",
    "    The third Elf is carrying food with 5000 and 6000 Calories, a total of 11000 Calories.\n",
    "    The fourth Elf is carrying food with 7000, 8000, and 9000 Calories, a total of 24000 Calories.\n",
    "    The fifth Elf is carrying one food item with 10000 Calories.\n",
    "\n",
    "In case the Elves get hungry and need extra snacks, they need to know which Elf to ask: they'd like to know how many Calories are being carried by the Elf carrying the most Calories. In the example above, this is 24000 (carried by the fourth Elf).\n",
    "\n",
    "Find the Elf carrying the most Calories. How many total Calories is that Elf carrying?"
   ]
  },
  {
   "cell_type": "code",
   "execution_count": 1,
   "metadata": {},
   "outputs": [
    {
     "name": "stdout",
     "output_type": "stream",
     "text": [
      "The most Calories on a single elf: 71924\n"
     ]
    }
   ],
   "source": [
    "#Input file and get highest value efficiently\n",
    "\n",
    "input = open('inputs/day1','r')\n",
    "\n",
    "this_elf_total = 0\n",
    "current_best = 0\n",
    "\n",
    "for line in input:\n",
    "    match line:\n",
    "        case '\\n':\n",
    "            if current_best < this_elf_total:\n",
    "                current_best = this_elf_total\n",
    "            this_elf_total = 0\n",
    "            \n",
    "        case _:\n",
    "            this_elf_total += int(line)\n",
    "\n",
    "print(\"The most Calories on a single elf: \" + str(current_best))"
   ]
  },
  {
   "cell_type": "markdown",
   "metadata": {},
   "source": [
    "--- Part Two ---\n",
    "\n",
    "By the time you calculate the answer to the Elves' question, they've already realized that the Elf carrying the most Calories of food might eventually run out of snacks.\n",
    "\n",
    "To avoid this unacceptable situation, the Elves would instead like to know the total Calories carried by the top three Elves carrying the most Calories. That way, even if one of those Elves runs out of snacks, they still have two backups.\n",
    "\n",
    "In the example above, the top three Elves are the fourth Elf (with 24000 Calories), then the third Elf (with 11000 Calories), then the fifth Elf (with 10000 Calories). The sum of the Calories carried by these three elves is 45000.\n",
    "\n",
    "Find the top three Elves carrying the most Calories. How many Calories are those Elves carrying in total?\n"
   ]
  },
  {
   "cell_type": "code",
   "execution_count": 2,
   "metadata": {},
   "outputs": [
    {
     "name": "stdout",
     "output_type": "stream",
     "text": [
      "List of 251 elves created to variable 'elf_totals'.\n",
      "The 3 elves with the most Calories have a total of 210406\n"
     ]
    }
   ],
   "source": [
    "#Input file and get list of elf totals\n",
    "\n",
    "input = open('inputs/day1','r')\n",
    "\n",
    "this_elf_total = 0\n",
    "elf_totals = []\n",
    "\n",
    "for line in input:\n",
    "    match line:\n",
    "        case '\\n':\n",
    "            elf_totals.append(this_elf_total)\n",
    "            this_elf_total = 0\n",
    "            \n",
    "        case _:\n",
    "            this_elf_total += int(line)\n",
    "\n",
    "print(\"List of \" + str(len(elf_totals)) + \" elves created to variable 'elf_totals'.\")\n",
    "\n",
    "#Get total of the top 3 elves\n",
    "\n",
    "top_three_totals = 0\n",
    "\n",
    "elf_totals.sort()\n",
    "\n",
    "for x in range(3):\n",
    "    current_top = elf_totals.pop()\n",
    "    top_three_totals += current_top\n",
    "\n",
    "print(\"The 3 elves with the most Calories have a total of \" + str(top_three_totals))"
   ]
  }
 ],
 "metadata": {
  "kernelspec": {
   "display_name": "Python 3.10.8 ('base')",
   "language": "python",
   "name": "python3"
  },
  "language_info": {
   "codemirror_mode": {
    "name": "ipython",
    "version": 3
   },
   "file_extension": ".py",
   "mimetype": "text/x-python",
   "name": "python",
   "nbconvert_exporter": "python",
   "pygments_lexer": "ipython3",
   "version": "3.10.8"
  },
  "orig_nbformat": 4,
  "vscode": {
   "interpreter": {
    "hash": "d4d1e4263499bec80672ea0156c357c1ee493ec2b1c70f0acce89fc37c4a6abe"
   }
  }
 },
 "nbformat": 4,
 "nbformat_minor": 2
}
